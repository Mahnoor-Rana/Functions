{
 "cells": [
  {
   "cell_type": "markdown",
   "id": "34bd0ebf",
   "metadata": {},
   "source": [
    "## Decorators"
   ]
  },
  {
   "cell_type": "markdown",
   "id": "8f0c14e5",
   "metadata": {},
   "source": [
    "Decorators are an extremely powerful concept in Python. They allow you to modify the behavior of a function without changing the code of the function itself. This chapter will lay the foundational concepts needed to thoroughly understand decorators (functions as objects, scope, and closures), and give you a good introduction into how decorators are used and defined. This deep dive into Python internals will set you up to be a superstar Pythonista."
   ]
  },
  {
   "cell_type": "markdown",
   "id": "694323ca",
   "metadata": {},
   "source": [
    "## Building a command line data app"
   ]
  },
  {
   "cell_type": "markdown",
   "id": "6b2e8e0b",
   "metadata": {},
   "source": [
    "We've defined four functions: mean(), std(), minimum(), and maximum() that users can call to analyze their data. Help finish this section of the code so that your users can call any of these functions by typing the function name at the input prompt."
   ]
  },
  {
   "cell_type": "code",
   "execution_count": 18,
   "id": "6c1e3cb8",
   "metadata": {},
   "outputs": [],
   "source": [
    "# Add the missing function references to the function map\n",
    "function_map = {\n",
    " # 'mean': mean,    as an example \n",
    " # 'std': std,\n",
    "  #'minimum': minimum,\n",
    " # 'maximum': maximum\n",
    "}\n",
    "\n",
    "#data = load_data()\n",
    "#print(data)\n",
    "\n",
    "#func_name = get_user_input()\n",
    "\n",
    "# Call the chosen function and pass \"data\" as an argument\n",
    "#function_map[func_name](data)"
   ]
  },
  {
   "cell_type": "code",
   "execution_count": null,
   "id": "516190ef",
   "metadata": {},
   "outputs": [],
   "source": []
  },
  {
   "cell_type": "code",
   "execution_count": 19,
   "id": "33ab6df0",
   "metadata": {},
   "outputs": [],
   "source": [
    "def has_docstring(func):\n",
    "    \"\"\"Check to see if the function \n",
    "  `func` has a docstring.\n",
    "\n",
    "  Args:\n",
    "    func (callable): A function.\n",
    "\n",
    "  Returns:\n",
    "    bool\n",
    "  \"\"\"\n",
    "    return func.__doc__ is not None"
   ]
  },
  {
   "cell_type": "code",
   "execution_count": 21,
   "id": "2018de30",
   "metadata": {},
   "outputs": [],
   "source": [
    "# Call has_docstring() on the as_2D() function\n",
    "#ok = has_docstring(as_2D)\n",
    "\n",
    "#if not ok:\n",
    " # print(\"as_2D() doesn't have a docstring!\")\n",
    "#else:\n",
    " # print(\"as_2D() looks ok\")"
   ]
  },
  {
   "cell_type": "code",
   "execution_count": 22,
   "id": "00c90c39",
   "metadata": {},
   "outputs": [],
   "source": [
    "# Call has_docstring() on the log_product() function\n",
    "#ok = has_docstring(log_product)\n",
    "\n",
    "#if not ok:\n",
    "#  print(\"log_product() doesn't have a docstring!\")\n",
    "#else:\n",
    " # print(\"log_product() looks ok\")"
   ]
  },
  {
   "cell_type": "markdown",
   "id": "fbb58024",
   "metadata": {},
   "source": [
    "## Returning functions for a math game"
   ]
  },
  {
   "cell_type": "markdown",
   "id": "c46ff091",
   "metadata": {},
   "source": [
    "We are building an educational math game where the player enters a math term, and our program returns a function that matches that term. For instance, if the user types \"add\", our program returns a function that adds two numbers. So far we've only implemented the \"add\" function. Now we want to include a \"subtract\" function."
   ]
  },
  {
   "cell_type": "code",
   "execution_count": 15,
   "id": "0dbf21c2",
   "metadata": {},
   "outputs": [
    {
     "name": "stdout",
     "output_type": "stream",
     "text": [
      "5 + 2 = 7\n",
      "5 - 2 = 3\n"
     ]
    }
   ],
   "source": [
    "def create_math_function(func_name):\n",
    "    if func_name == 'add':\n",
    "        def add(a, b):\n",
    "              return a + b\n",
    "        return add\n",
    "    elif func_name == 'subtract':\n",
    "    # Define the subtract() function\n",
    "       def subtract(a, b):\n",
    "            return a - b\n",
    "       return subtract\n",
    "    else:\n",
    "        print(\"I don't know that one\")\n",
    "    \n",
    "add = create_math_function('add')\n",
    "print('5 + 2 = {}'.format(add(5, 2)))\n",
    "\n",
    "subtract = create_math_function('subtract')\n",
    "print('5 - 2 = {}'.format(subtract(5, 2)))"
   ]
  },
  {
   "cell_type": "code",
   "execution_count": 23,
   "id": "b123721e",
   "metadata": {},
   "outputs": [
    {
     "name": "stdout",
     "output_type": "stream",
     "text": [
      "50\n",
      "30\n",
      "100\n",
      "30\n"
     ]
    }
   ],
   "source": [
    "x = 50\n",
    "\n",
    "def one():\n",
    "    x = 10\n",
    "\n",
    "def two():\n",
    "    global x\n",
    "    x = 30\n",
    "\n",
    "def three():\n",
    "    x = 100\n",
    "    print(x)\n",
    "\n",
    "for func in [one, two, three]:\n",
    "    func()\n",
    "    print(x)"
   ]
  },
  {
   "cell_type": "code",
   "execution_count": null,
   "id": "ec3e795e",
   "metadata": {},
   "outputs": [],
   "source": []
  },
  {
   "cell_type": "code",
   "execution_count": null,
   "id": "0a0dd11c",
   "metadata": {},
   "outputs": [],
   "source": []
  },
  {
   "cell_type": "code",
   "execution_count": null,
   "id": "4b05e756",
   "metadata": {},
   "outputs": [],
   "source": []
  },
  {
   "cell_type": "code",
   "execution_count": null,
   "id": "cf50a1ba",
   "metadata": {},
   "outputs": [],
   "source": []
  },
  {
   "cell_type": "code",
   "execution_count": null,
   "id": "66851f65",
   "metadata": {},
   "outputs": [],
   "source": []
  }
 ],
 "metadata": {
  "kernelspec": {
   "display_name": "Python 3 (ipykernel)",
   "language": "python",
   "name": "python3"
  },
  "language_info": {
   "codemirror_mode": {
    "name": "ipython",
    "version": 3
   },
   "file_extension": ".py",
   "mimetype": "text/x-python",
   "name": "python",
   "nbconvert_exporter": "python",
   "pygments_lexer": "ipython3",
   "version": "3.9.12"
  }
 },
 "nbformat": 4,
 "nbformat_minor": 5
}
